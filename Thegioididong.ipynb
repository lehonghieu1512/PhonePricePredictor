{
 "cells": [
  {
   "cell_type": "code",
   "execution_count": 1,
   "metadata": {
    "collapsed": false
   },
   "outputs": [],
   "source": [
    "%matplotlib inline\n",
    "import requests # To read html text\n",
    "from bs4 import BeautifulSoup # To parse html text\n",
    "import re # Regular expressions\n",
    "import operator\n",
    "import matplotlib.pyplot as plt\n",
    "from selenium import webdriver\n",
    "import datetime"
   ]
  },
  {
   "cell_type": "code",
   "execution_count": 2,
   "metadata": {
    "collapsed": false
   },
   "outputs": [],
   "source": [
    "def resolution_filter(string):\n",
    "    #string=u'\\u0110\\u1ed9 ph\\xe2n gi\\u1ea3i320 x 240 Pixels'\n",
    "    result=re.finditer('[0-9]+ x [0-9]+',string)\n",
    "    for ele in result:\n",
    "        return ele.group()\n",
    "\n",
    "def camera_filter(string):\n",
    "    #string='16 MP và 8 MP'\n",
    "    ite=re.finditer('[0-9.]+ MP',string)\n",
    "    for ele in ite:\n",
    "        return ele.group()\n",
    "    \n",
    "def width_screen_filter(string):\n",
    "    result=re.search('([0-9]+.[0-9]+)|([0-9]+)\"',string)\n",
    "    return result.group()\n",
    "def CPU_filter(string):\n",
    "    ite=re.finditer('[0-9.]+ GHz',string)\n",
    "    for ele in ite:\n",
    "        return ele.group()\n",
    "def memory_filter(string):\n",
    "    ite=re.finditer('[0-9.]+ (GB|MB)',string)\n",
    "    for ele in ite:\n",
    "        return ele.group()\n",
    "def battery_filter(string):\n",
    "    ite=re.finditer('[0-9]+ mAh',string)\n",
    "    for ele in ite:\n",
    "        return ele.group()\n",
    "def name_filter(string):\n",
    "    return re.sub('<([a-z]+|/|[0-9]+)>','',string)\n",
    "def price_filter(string):\n",
    "    return re.sub('[^0-9.]','',string)\n",
    "\n",
    "#print width_screen_filter('S LCD, 5.4\" ')"
   ]
  },
  {
   "cell_type": "code",
   "execution_count": 3,
   "metadata": {
    "collapsed": true
   },
   "outputs": [],
   "source": [
    "def date2days(date):\n",
    "    date=date.strip()\n",
    "    if u'tháng' in date:\n",
    "        return int(date.split()[0])*30\n",
    "    if u'/' in date:\n",
    "        date=date.split('/')\n",
    "        date=datetime.date(int(date[2]),int(date[1]),int(date[0]))\n",
    "        today=datetime.date.today() \n",
    "        return (today-date).days\n",
    "    if u'năm' in date:\n",
    "        return int(date.split()[0])*365"
   ]
  },
  {
   "cell_type": "code",
   "execution_count": 4,
   "metadata": {
    "collapsed": false
   },
   "outputs": [],
   "source": [
    "def get_last_page(url):#get last page of comment section\n",
    "    html_text = requests.get(url).text\n",
    "    tree = BeautifulSoup(html_text)\n",
    "    comment_page=tree.find_all('div',class_='pagcomment')\n",
    "    try:\n",
    "        last_page=(comment_page[len(comment_page)-1]('a')[-2].text)\n",
    "    except:\n",
    "        return '0'\n",
    "    return last_page\n",
    "def get_num_day(url):\n",
    "    html_text = requests.get(url).text\n",
    "    tree = BeautifulSoup(html_text)\n",
    "    driver.get(url)\n",
    "    last_page=get_last_page(url)\n",
    "    if last_page=='0':\n",
    "        return '0'\n",
    "    while tree.find('span',class_='active').text!=last_page:#check if it's clicked in cast of poor connection\n",
    "        try:\n",
    "            driver.find_element_by_link_text(last_page).click()\n",
    "            tree = BeautifulSoup(driver.page_source)\n",
    "            #print tree.find('span',class_='active').text\n",
    "        except:\n",
    "            break\n",
    "    #get date\n",
    "    for i in range(3):\n",
    "        tree = BeautifulSoup(driver.page_source)\n",
    "    date=tree.find('a',class_='time')\n",
    "    try:\n",
    "        return date.text\n",
    "    except:\n",
    "        return None\n",
    "def get_confi(url):\n",
    "    #input: a link\n",
    "    #output: a list of configurations of a phone\n",
    "    \n",
    "\n",
    "    #proceed to the last page of comment section\n",
    "    driver.get(url)\n",
    "    \n",
    "    #get html which contains click-button to show detailed configuration of the phone\n",
    "    #try if it has ordinary form\n",
    "    try :\n",
    "        driver.find_element_by_class_name('viewparameterfull').click()\n",
    "    except:\n",
    "        return\n",
    "    #let's parse some details\n",
    "    tree = BeautifulSoup(driver.page_source)\n",
    "    confi=tree.find(class_=\"parameterfull\")\n",
    "    resolution=confi.find(class_=\"g78\")\n",
    "    width_screen=confi.find(class_=\"g79\")\n",
    "    rear_camera=confi.find(class_=\"g27\")\n",
    "    front_camera=confi.find(class_=\"g29\")\n",
    "    CPU_speed=confi.find(class_=\"g51\")\n",
    "    RAM=confi.find(class_=\"g50\")\n",
    "    internal_storage=confi.find(class_=\"g49\")\n",
    "    battery_capacity=confi.find(class_=\"g84\")\n",
    "    while resolution==None:# DONT KNOW WHY!! If it hasn't got the detail, just keep getting it\n",
    "        #let's parse some details\n",
    "        try:\n",
    "            driver.find_element_by_class_name('viewparameterfull').click()\n",
    "        except:\n",
    "            pass\n",
    "        tree = BeautifulSoup(driver.page_source)\n",
    "        confi=tree.find(class_=\"parameterfull\")\n",
    "        resolution=confi.find(class_=\"g78\")\n",
    "        width_screen=confi.find(class_=\"g79\")\n",
    "        rear_camera=confi.find(class_=\"g27\")\n",
    "        front_camera=confi.find(class_=\"g29\")\n",
    "        CPU_speed=confi.find(class_=\"g51\")\n",
    "        RAM=confi.find(class_=\"g50\")\n",
    "        internal_storage=confi.find(class_=\"g49\")\n",
    "        battery_capacity=confi.find(class_=\"g84\")\n",
    "    num_day=get_num_day(url)\n",
    "    num_day=date2days(num_day)\n",
    "    \n",
    "    return [resolution_filter(resolution.text),\n",
    "            width_screen_filter(width_screen.text),\n",
    "            camera_filter(rear_camera.text),\n",
    "            camera_filter(front_camera.text),\n",
    "            CPU_filter(CPU_speed.text),\n",
    "            memory_filter(RAM.text),\n",
    "            memory_filter(internal_storage.text),\n",
    "            battery_filter(battery_capacity.text),\n",
    "            num_day]\n",
    "#driver=webdriver.Chrome(\"F:\\\\Deadlines\\\\chromedriver.exe\")\n",
    "#get_confi('https://www.thegioididong.com/dtdd/nokia-222-dual-sim')"
   ]
  },
  {
   "cell_type": "markdown",
   "metadata": {},
   "source": [
    "need to be altered"
   ]
  },
  {
   "cell_type": "code",
   "execution_count": null,
   "metadata": {
    "collapsed": false
   },
   "outputs": [],
   "source": [
    "def get_phone_info(url):#get phone info based on Brand consist of brands, prices and configurations\n",
    "    #input: a link\n",
    "    #output: a list of details of a single phone\n",
    "    html_text = requests.get(url).text\n",
    "    tree = BeautifulSoup(html_text)\n",
    "    count=0\n",
    "    \n",
    "    phone_list=tree.find(class_='cate filter-cate')\n",
    "    prices=phone_list.find_all('strong')\n",
    "    names=phone_list.find_all('h3')\n",
    "    href=[ele['href'] for ele in phone_list.find_all('a')]\n",
    "    brands=[]#contains a set of brand\n",
    "    details=[]#contains everything\n",
    "    \n",
    "    for i in range(len(prices)):\n",
    "        if u'Giá online' in prices[i].text:#eleminate GiaOnline and retain GiaThuong\n",
    "            continue\n",
    "        brands.append(names[count].text.split()[0])\n",
    "        confi=get_confi('https://www.thegioididong.com/' + href[count])\n",
    "        temp=[names[count].text]#,prices[i].text]\n",
    "        \n",
    "        if confi!=None:################################################################# SOLVE SPECIAL CASES BEFORE DELETING DIS\n",
    "            temp.extend(confi)\n",
    "            temp.append(price_filter(prices[i].text))\n",
    "        print temp\n",
    "        details.append(temp)\n",
    "        count+=1\n",
    "        \n",
    "    return details\n",
    "#driver=webdriver.Chrome(\"F:\\\\Deadlines\\\\chromedriver.exe\")\n",
    "#get_phone_info('https://www.thegioididong.com/dtdd-apple-iphone')"
   ]
  },
  {
   "cell_type": "markdown",
   "metadata": {
    "collapsed": false,
    "scrolled": true
   },
   "source": [
    "def list_running(url):\n",
    "    html_text = requests.get(url).text\n",
    "    tree = BeautifulSoup(html_text)\n",
    "    phone_list=tree.find(class_='cate filter-cate')\n",
    "    links=phone_list.find_all('a')#get tags that contain links\n",
    "    for ele in links:\n",
    "        print ele['href']\n",
    "        get_phone_info('https://www.thegioididong.com' + ele['href'])\n",
    "#driver=webdriver.Chrome(\"F:\\\\Deadlines\\\\chromedriver.exe\")\n",
    "#list_running('https://www.thegioididong.com/dtdd-apple-iphone')"
   ]
  },
  {
   "cell_type": "code",
   "execution_count": null,
   "metadata": {
    "collapsed": false,
    "scrolled": false
   },
   "outputs": [
    {
     "name": "stderr",
     "output_type": "stream",
     "text": [
      "C:\\Anaconda2\\lib\\site-packages\\bs4\\__init__.py:166: UserWarning: No parser was explicitly specified, so I'm using the best available HTML parser for this system (\"lxml\"). This usually isn't a problem, but if you run this code on another system, or in a different virtual environment, it may use a different parser and behave differently.\n",
      "\n",
      "To get rid of this warning, change this:\n",
      "\n",
      " BeautifulSoup([your markup])\n",
      "\n",
      "to this:\n",
      "\n",
      " BeautifulSoup([your markup], \"lxml\")\n",
      "\n",
      "  markup_type=markup_type))\n"
     ]
    },
    {
     "name": "stdout",
     "output_type": "stream",
     "text": [
      "[u'iPhone 7 Plus 256GB', u'1080 x 1920', u'5.5', u'12 MP', u'7 MP', u'2.3 GHz', u'3 GB', u'256 GB', u'2900 mAh', 240, u'25.990.000']\n",
      "[u'iPhone 7 Plus Red 128GB', u'1080 x 1920', u'5.5', u'12 MP', u'7 MP', u'2.3 GHz', u'3 GB', u'128 GB', u'2900 mAh', 90, u'23.990.000']\n",
      "[u'iPhone 7 Plus 128GB', u'1080 x 1920', u'5.5', u'12 MP', u'7 MP', u'2.3 GHz', u'3 GB', u'128 GB', u'2900 mAh', 240, u'23.990.000']\n",
      "[u'iPhone 7 Plus 32GB', u'1080 x 1920', u'5.5', u'12 MP', u'7 MP', u'2.3 GHz', u'3 GB', u'32 GB', u'2900 mAh', 365, u'21.990.000']\n",
      "[u'iPhone 7 256GB', u'1334 x 750', u'4.7', u'12 MP', u'7 MP', u'2.3 GHz', u'2 GB', u'256 GB', u'1960 mAh', 210, u'21.990.000']\n",
      "[u'iPhone 7 128GB', u'1334 x 750', u'4.7', u'12 MP', u'7 MP', u'2.3 GHz', u'2 GB', u'128 GB', u'1960 mAh', 240, u'19.990.000']\n",
      "[u'iPhone 7 Red 128GB', u'1334 x 750', u'4.7', u'12 MP', u'7 MP', u'2.3 GHz', u'2 GB', u'128 GB', u'1960 mAh', 90, u'19.990.000']\n",
      "[u'iPhone 7 32GB', u'1334 x 750', u'4.7', u'12 MP', u'7 MP', u'2.3 GHz', u'2 GB', u'32 GB', u'1960 mAh', 365, u'17.990.000']\n",
      "[u'iPhone 6s 128GB', u'1334 x 750', u'4.7', u'12 MP', u'5 MP', u'1.8 GHz', u'2 GB', u'128 GB', u'1715 mAh', 365, u'17.990.000']\n",
      "[u'iPhone 6s 32GB', u'1334 x 750', u'4.7', u'12 MP', u'5 MP', u'1.8 GHz', u'2 GB', u'32 GB', u'1715 mAh', 240, u'14.990.000']\n",
      "[u'iPhone 6s Plus 32GB', u'1080 x 1920', u'5.5', u'12 MP', u'5 MP', u'1.8 GHz', u'2 GB', u'32 GB', u'2750 mAh', 240, u'14.990.000']\n",
      "[u'iPhone 6 Plus 16GB', u'1080 x 1920', u'5.5', u'8 MP', u'1.2 MP', u'1.4 GHz', u'1 GB', u'16 GB', u'2915 mAh', 730, u'11.990.000']\n"
     ]
    }
   ],
   "source": [
    "# Read html text and parse it\n",
    "url = 'https://www.thegioididong.com/dtdd'\n",
    "html_text = requests.get(url).text\n",
    "tree = BeautifulSoup(html_text)\n",
    "driver = webdriver.Chrome(\"F:\\\\Deadlines\\\\chromedriver.exe\")\n",
    "menu = tree.find(class_='manufacture')\n",
    "side=menu.find_all('aside')\n",
    "details=[]\n",
    "for categories in side:\n",
    "    categories= categories.find_all('a')\n",
    "    #print categories\n",
    "    for category in categories:\n",
    "        details.extend(get_phone_info('https://www.thegioididong.com' + category['href']))\n",
    "print 'DONE'"
   ]
  },
  {
   "cell_type": "code",
   "execution_count": null,
   "metadata": {
    "collapsed": false
   },
   "outputs": [],
   "source": [
    "import numpy as np\n",
    "import pandas as pd\n",
    "df = pd.DataFrame(details, columns=['Phone Name','resolution','screen size','rear camera','front camera','CPU', 'RAM', 'Internal storage','Battery capacity','Days','Price'])"
   ]
  },
  {
   "cell_type": "code",
   "execution_count": null,
   "metadata": {
    "collapsed": false
   },
   "outputs": [],
   "source": [
    "df.to_csv('thegioididong2.csv', encoding='utf-8')"
   ]
  },
  {
   "cell_type": "code",
   "execution_count": null,
   "metadata": {
    "collapsed": false,
    "scrolled": false
   },
   "outputs": [],
   "source": [
    "df"
   ]
  },
  {
   "cell_type": "markdown",
   "metadata": {},
   "source": [
    "# Get date"
   ]
  },
  {
   "cell_type": "code",
   "execution_count": null,
   "metadata": {
    "collapsed": false,
    "scrolled": true
   },
   "outputs": [],
   "source": [
    "def test(url):\n",
    "    html_text = requests.get(url).text\n",
    "    tree = BeautifulSoup(html_text)\n",
    "    comment_page=tree.find(class_='characteristics')('h2')\n",
    "    for ele in comment_page('h2'):\n",
    "        print ele\n",
    "    '''driver=webdriver.Chrome(\"F:\\\\Deadlines\\\\chromedriver.exe\")\n",
    "    driver.get(url)\n",
    "    \n",
    "    while tree.find('span',class_='active').text!=last_page:#check if it's clicked in cast of poor connection\n",
    "        try:\n",
    "            driver.find_element_by_link_text(last_page).click()\n",
    "            tree = BeautifulSoup(driver.page_source)\n",
    "            print tree.find('span',class_='active').text\n",
    "        except:\n",
    "            break\n",
    "    #get date\n",
    "    for i in range(3):\n",
    "        tree = BeautifulSoup(driver.page_source)\n",
    "    date=tree.find('a',class_='time')\n",
    "    print date.text'''\n",
    "test('https://www.thegioididong.com/dtdd/oppo-f3')"
   ]
  },
  {
   "cell_type": "code",
   "execution_count": null,
   "metadata": {
    "collapsed": false
   },
   "outputs": [],
   "source": [
    "type(driver.page_source)"
   ]
  },
  {
   "cell_type": "code",
   "execution_count": null,
   "metadata": {
    "collapsed": false
   },
   "outputs": [],
   "source": [
    "import datetime\n",
    "def date2days(date):\n",
    "    date=date.strip()\n",
    "    \n",
    "    if u'tháng' in date:\n",
    "        return int(date.split()[0])*30\n",
    "    if u'/' in date:\n",
    "        date=date.split('/')\n",
    "        date=datetime.date(int(date[2]),int(date[1]),int(date[0]))\n",
    "        today=datetime.date.today() \n",
    "        return (today-date).days\n",
    "    if u'năm' in date:\n",
    "        return int(date.split()[0])*365\n",
    "print get_num_day(u' 2 năm')"
   ]
  },
  {
   "cell_type": "markdown",
   "metadata": {},
   "source": [
    "# regular expression test"
   ]
  },
  {
   "cell_type": "code",
   "execution_count": null,
   "metadata": {
    "collapsed": false
   },
   "outputs": [],
   "source": [
    "url = 'https://www.thegioididong.com/dtdd'\n",
    "html_text = requests.get(url).text\n",
    "tree = BeautifulSoup(html_text)\n",
    "\n",
    "menus = tree.find_all(class_='feature')\n",
    "for menu in menus:\n",
    "    print menu.find('a')['href']"
   ]
  },
  {
   "cell_type": "code",
   "execution_count": null,
   "metadata": {
    "collapsed": false
   },
   "outputs": [],
   "source": [
    "string='Dài 158.2 mm - Ngang 77.9 mm - Dày 7.3 mm'\n",
    "#ite=re.finditer('([0-9.]+) mm',string)#.group()\n",
    "ite=re.finditer('[0-9.]+',string)\n",
    "for ele in ite:\n",
    "    print ele.group()"
   ]
  },
  {
   "cell_type": "code",
   "execution_count": null,
   "metadata": {
    "collapsed": false,
    "scrolled": false
   },
   "outputs": [],
   "source": [
    "string='<h>Asus Zenfone Live ZB501KL</> <3>'\n",
    "result=re.sub('<([a-z]+|/|[0-9]+)>','',string)\n",
    "print result"
   ]
  },
  {
   "cell_type": "code",
   "execution_count": null,
   "metadata": {
    "collapsed": false
   },
   "outputs": [],
   "source": [
    "string=u'Gi\\xe1 th\\u01b0\\u1eddng: 1.690.000\\u20ab'\n",
    "result=re.sub('[^0-9.]','',string)\n",
    "print result"
   ]
  },
  {
   "cell_type": "code",
   "execution_count": null,
   "metadata": {
    "collapsed": false
   },
   "outputs": [],
   "source": [
    "string=u'\\u0110\\u1ed9 ph\\xe2n gi\\u1ea3i320 x 240 Pixels'\n",
    "result=re.finditer('[0-9]+ x [0-9]+',string)\n",
    "for ele in result:\n",
    "    print ele.group()"
   ]
  },
  {
   "cell_type": "code",
   "execution_count": null,
   "metadata": {
    "collapsed": false
   },
   "outputs": [],
   "source": [
    "string='16 MP và 8 MP'\n",
    "ite=re.finditer('[0-9]+ MP',string)\n",
    "for ele in ite:\n",
    "    print ele.group()"
   ]
  },
  {
   "cell_type": "code",
   "execution_count": null,
   "metadata": {
    "collapsed": true
   },
   "outputs": [],
   "source": []
  }
 ],
 "metadata": {
  "anaconda-cloud": {},
  "kernelspec": {
   "display_name": "Python [Root]",
   "language": "python",
   "name": "Python [Root]"
  },
  "language_info": {
   "codemirror_mode": {
    "name": "ipython",
    "version": 2
   },
   "file_extension": ".py",
   "mimetype": "text/x-python",
   "name": "python",
   "nbconvert_exporter": "python",
   "pygments_lexer": "ipython2",
   "version": "2.7.12"
  }
 },
 "nbformat": 4,
 "nbformat_minor": 0
}
